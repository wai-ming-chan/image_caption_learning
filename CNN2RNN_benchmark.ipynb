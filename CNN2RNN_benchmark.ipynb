{
 "cells": [
  {
   "cell_type": "code",
   "execution_count": 1,
   "metadata": {
    "_cell_guid": "b1076dfc-b9ad-4769-8c92-a6c4dae69d19",
    "_uuid": "8f2839f25d086af736a60e9eeb907d3b93b6e0e5",
    "execution": {
     "iopub.execute_input": "2021-06-10T11:40:06.875099Z",
     "iopub.status.busy": "2021-06-10T11:40:06.87472Z",
     "iopub.status.idle": "2021-06-10T11:40:06.879298Z",
     "shell.execute_reply": "2021-06-10T11:40:06.87831Z",
     "shell.execute_reply.started": "2021-06-10T11:40:06.875065Z"
    }
   },
   "outputs": [],
   "source": [
    "import torch.nn as nn\n",
    "import torchvision.models as models\n",
    "import torch\n",
    "\n",
    "# import numpy "
   ]
  },
  {
   "cell_type": "code",
   "execution_count": 2,
   "metadata": {},
   "outputs": [
    {
     "name": "stderr",
     "output_type": "stream",
     "text": [
      "/scratch/w880c134/anaconda3/envs/tf/lib/python3.9/site-packages/torchvision/models/_utils.py:208: UserWarning: The parameter 'pretrained' is deprecated since 0.13 and may be removed in the future, please use 'weights' instead.\n",
      "  warnings.warn(\n",
      "/scratch/w880c134/anaconda3/envs/tf/lib/python3.9/site-packages/torchvision/models/_utils.py:223: UserWarning: Arguments other than a weight enum or `None` for 'weights' are deprecated since 0.13 and may be removed in the future. The current behavior is equivalent to passing `weights=Inception_V3_Weights.IMAGENET1K_V1`. You can also use `weights=Inception_V3_Weights.DEFAULT` to get the most up-to-date weights.\n",
      "  warnings.warn(msg)\n"
     ]
    },
    {
     "name": "stdout",
     "output_type": "stream",
     "text": [
      "torch.Size([20, 10])\n"
     ]
    }
   ],
   "source": [
    "# Test the issue of inception_v3 model (runnable or not)\n",
    "new_model = models.inception_v3(pretrained=True, aux_logits=True)\n",
    "# new_model.fc = nn.Linear(2048, 256)\n",
    "fc2 = nn.Linear(1000,10)\n",
    "new_model2 = fc2(new_model(torch.randn(20,3,299,299))[0])\n",
    "# new_model3 = new_model(torch.randn(20,3,299,299))\n",
    "\n",
    "print(new_model2.shape)\n",
    "# print(new_model3[1].shape)"
   ]
  },
  {
   "cell_type": "markdown",
   "metadata": {},
   "source": [
    "## Model definition"
   ]
  },
  {
   "cell_type": "code",
   "execution_count": 3,
   "metadata": {
    "execution": {
     "iopub.execute_input": "2021-06-10T11:40:07.250327Z",
     "iopub.status.busy": "2021-06-10T11:40:07.249958Z",
     "iopub.status.idle": "2021-06-10T11:40:07.257264Z",
     "shell.execute_reply": "2021-06-10T11:40:07.256375Z",
     "shell.execute_reply.started": "2021-06-10T11:40:07.25029Z"
    }
   },
   "outputs": [],
   "source": [
    "class encoderCNN(nn.Module):\n",
    "    def __init__(self, embed_size, should_train=False):\n",
    "        super(encoderCNN, self).__init__()\n",
    "        self.should_train = should_train\n",
    "        self.inception = models.inception_v3(pretrained=True, aux_logits=True)\n",
    "#         self.inception = models.inception_v3(pretrained=True, aux_logits=False)\n",
    "        self.inception.fc = nn.Linear(self.inception.fc.in_features, embed_size)\n",
    "        self.dropout= nn.Dropout(0.5)\n",
    "        self.relu = nn.ReLU()\n",
    "    \n",
    "    def forward(self, x):\n",
    "        features = self.inception(x)\n",
    "        \n",
    "#         for name, param in self.inception.named_parameters():\n",
    "#             param.requires_grad = False\n",
    "        return self.dropout(self.relu(features[0]))\n",
    "        "
   ]
  },
  {
   "cell_type": "code",
   "execution_count": 4,
   "metadata": {
    "execution": {
     "iopub.execute_input": "2021-06-10T11:40:07.259623Z",
     "iopub.status.busy": "2021-06-10T11:40:07.259278Z",
     "iopub.status.idle": "2021-06-10T11:40:07.270711Z",
     "shell.execute_reply": "2021-06-10T11:40:07.269911Z",
     "shell.execute_reply.started": "2021-06-10T11:40:07.259588Z"
    }
   },
   "outputs": [],
   "source": [
    "class decoderRNN(nn.Module):\n",
    "    def __init__(self, embed_size,vocab_size, hidden_size, num_layers):\n",
    "        super(decoderRNN, self).__init__()\n",
    "        self.embedding = nn.Embedding(vocab_size, embed_size)\n",
    "        self.lstm = nn.LSTM(embed_size, hidden_size, num_layers)\n",
    "        self.linear = nn.Linear(hidden_size, vocab_size)\n",
    "        self.dropout = nn.Dropout(0.5)\n",
    "    \n",
    "    def forward(self, features, caption):\n",
    "        embeddings = self.dropout(self.embedding(caption))\n",
    "        embeddings = torch.cat((features.unsqueeze(0),embeddings), dim=0)\n",
    "        hiddens, _ = self.lstm(embeddings)\n",
    "        outputs = self.linear(hiddens)\n",
    "        return outputs"
   ]
  },
  {
   "cell_type": "code",
   "execution_count": 5,
   "metadata": {
    "execution": {
     "iopub.execute_input": "2021-06-10T11:40:07.273561Z",
     "iopub.status.busy": "2021-06-10T11:40:07.273326Z",
     "iopub.status.idle": "2021-06-10T11:40:07.282894Z",
     "shell.execute_reply": "2021-06-10T11:40:07.281887Z",
     "shell.execute_reply.started": "2021-06-10T11:40:07.273539Z"
    }
   },
   "outputs": [],
   "source": [
    "class CNN2RNN(nn.Module):\n",
    "    def __init__(self, embed_size, vocab_size, hidden_size, num_layers):\n",
    "        super(CNN2RNN, self).__init__()\n",
    "        self.encoderCNN = encoderCNN(embed_size)\n",
    "        self.decoderRNN = decoderRNN(embed_size, vocab_size, hidden_size, num_layers)\n",
    "    \n",
    "    def forward(self, images, caption):\n",
    "        x = self.encoderCNN(images)\n",
    "        x = self.decoderRNN(x, caption)\n",
    "        return x\n",
    "    \n",
    "    def captionImage(self, image, vocabulary, maxlength=50):\n",
    "        result_caption = []\n",
    "        \n",
    "        with torch.no_grad():\n",
    "            x = self.encoderCNN(image).unsqueeze(0)\n",
    "            \n",
    "            states = None\n",
    "            \n",
    "            for _ in range(maxlength):\n",
    "                print('x.shape: ', x.shape)\n",
    "                hiddens, states = self.decoderRNN.lstm(x, states)\n",
    "                output = self.decoderRNN.linear(hiddens.squeeze(0))\n",
    "                print('decodeRNN_output.shape: ', output.shape)\n",
    "                print('argmax: ', torch.argmax(output))\n",
    "#                 predicted = output.argmax(1)\n",
    "                predicted = output.argmax(0)\n",
    "                print('predicted.shape: ',predicted.shape)\n",
    "                result_caption.append(predicted.item())\n",
    "            \n",
    "#                 x = self.decoderRNN.embedding(output).unsqueeze(0)\n",
    "                x = self.decoderRNN.embedding(output.long()).unsqueeze(0)\n",
    "                \n",
    "                if vocabulary.itos[predicted.item()] == \"<EOS>\":\n",
    "                    break\n",
    "        return [vocabulary.itos[i] for i in result_caption]"
   ]
  },
  {
   "cell_type": "markdown",
   "metadata": {},
   "source": [
    "## Getting the dataset"
   ]
  },
  {
   "cell_type": "code",
   "execution_count": 6,
   "metadata": {
    "execution": {
     "iopub.execute_input": "2021-06-10T11:40:07.319589Z",
     "iopub.status.busy": "2021-06-10T11:40:07.319251Z",
     "iopub.status.idle": "2021-06-10T11:40:07.32598Z",
     "shell.execute_reply": "2021-06-10T11:40:07.325262Z",
     "shell.execute_reply.started": "2021-06-10T11:40:07.319562Z"
    }
   },
   "outputs": [
    {
     "name": "stderr",
     "output_type": "stream",
     "text": [
      "2023-03-30 15:49:12.637772: I tensorflow/stream_executor/platform/default/dso_loader.cc:49] Successfully opened dynamic library libcudart.so.10.1\n"
     ]
    }
   ],
   "source": [
    "import os\n",
    "import pandas\n",
    "import spacy\n",
    "\n",
    "from torch.nn.utils.rnn import pad_sequence\n",
    "from torch.utils.data import DataLoader, Dataset\n",
    "\n",
    "from PIL import Image\n",
    "from torchvision.transforms import transforms"
   ]
  },
  {
   "cell_type": "code",
   "execution_count": 7,
   "metadata": {
    "execution": {
     "iopub.execute_input": "2021-06-10T11:40:07.328425Z",
     "iopub.status.busy": "2021-06-10T11:40:07.327964Z",
     "iopub.status.idle": "2021-06-10T11:40:08.143751Z",
     "shell.execute_reply": "2021-06-10T11:40:08.142636Z",
     "shell.execute_reply.started": "2021-06-10T11:40:07.328389Z"
    }
   },
   "outputs": [
    {
     "name": "stderr",
     "output_type": "stream",
     "text": [
      "/scratch/w880c134/anaconda3/envs/tf/lib/python3.9/site-packages/spacy/util.py:837: UserWarning: [W095] Model 'en_core_web_sm' (3.5.0) was trained with spaCy v3.5 and may not be 100% compatible with the current version (3.3.1). If you see errors or degraded performance, download a newer compatible model or retrain your custom model with the current spaCy version. For more details and available updates, run: python -m spacy validate\n",
      "  warnings.warn(warn_msg)\n"
     ]
    }
   ],
   "source": [
    "# spacy_eng = spacy.load(\"en\")\n",
    "spacy_eng = spacy.load(\"en_core_web_sm\")"
   ]
  },
  {
   "cell_type": "code",
   "execution_count": 8,
   "metadata": {
    "execution": {
     "iopub.execute_input": "2021-06-10T11:40:08.147641Z",
     "iopub.status.busy": "2021-06-10T11:40:08.147349Z",
     "iopub.status.idle": "2021-06-10T11:40:08.157001Z",
     "shell.execute_reply": "2021-06-10T11:40:08.156041Z",
     "shell.execute_reply.started": "2021-06-10T11:40:08.147611Z"
    }
   },
   "outputs": [],
   "source": [
    "class Vocabulary:\n",
    "    def __init__(self, freq_threshold):\n",
    "        \n",
    "        self.itos = {0: \"<PAD>\", 1: \"<SOS>\", 2: \"<EOS>\", 3: \"<UNK>\"}\n",
    "        self.stoi = {\"<PAD>\": 0, \"<SOS>\": 1, \"<EOS>\": 2, \"<UNK>\": 3}\n",
    "        \n",
    "        self.freq_threshold = freq_threshold\n",
    "    \n",
    "    def __len__(self):\n",
    "        return len(self.itos)\n",
    "    \n",
    "    @staticmethod\n",
    "    def tokenizer_eng(text):\n",
    "        return [tok.text.lower() for tok in spacy_eng.tokenizer(text)]\n",
    "    \n",
    "    def build_vocabulary(self,sentences):\n",
    "        idx = 4\n",
    "        frequency = {}\n",
    "        \n",
    "        for sentence in sentences:\n",
    "            for word in self.tokenizer_eng(sentence):\n",
    "                if word not in frequency:\n",
    "                    frequency[word] = 1\n",
    "                else:\n",
    "                    frequency[word] += 1\n",
    "                \n",
    "                if (frequency[word] > self.freq_threshold-1):\n",
    "                    self.itos[idx] = word\n",
    "                    self.stoi[word] = idx\n",
    "                    idx += 1\n",
    "    \n",
    "    def numericalize(self,sentence):\n",
    "        tokenized_text = self.tokenizer_eng(sentence)\n",
    "        \n",
    "        return [self.stoi[word] if word in self.stoi else self.stoi[\"<UNK>\"] for word in tokenized_text ]\n",
    "                    \n",
    "        "
   ]
  },
  {
   "cell_type": "code",
   "execution_count": 9,
   "metadata": {
    "execution": {
     "iopub.execute_input": "2021-06-10T11:40:08.159226Z",
     "iopub.status.busy": "2021-06-10T11:40:08.1585Z",
     "iopub.status.idle": "2021-06-10T11:40:08.222581Z",
     "shell.execute_reply": "2021-06-10T11:40:08.221762Z",
     "shell.execute_reply.started": "2021-06-10T11:40:08.159177Z"
    }
   },
   "outputs": [
    {
     "data": {
      "text/html": [
       "<div>\n",
       "<style scoped>\n",
       "    .dataframe tbody tr th:only-of-type {\n",
       "        vertical-align: middle;\n",
       "    }\n",
       "\n",
       "    .dataframe tbody tr th {\n",
       "        vertical-align: top;\n",
       "    }\n",
       "\n",
       "    .dataframe thead th {\n",
       "        text-align: right;\n",
       "    }\n",
       "</style>\n",
       "<table border=\"1\" class=\"dataframe\">\n",
       "  <thead>\n",
       "    <tr style=\"text-align: right;\">\n",
       "      <th></th>\n",
       "      <th>image</th>\n",
       "      <th>caption</th>\n",
       "    </tr>\n",
       "  </thead>\n",
       "  <tbody>\n",
       "    <tr>\n",
       "      <th>0</th>\n",
       "      <td>1000268201_693b08cb0e.jpg</td>\n",
       "      <td>A child in a pink dress is climbing up a set o...</td>\n",
       "    </tr>\n",
       "    <tr>\n",
       "      <th>1</th>\n",
       "      <td>1000268201_693b08cb0e.jpg</td>\n",
       "      <td>A girl going into a wooden building .</td>\n",
       "    </tr>\n",
       "    <tr>\n",
       "      <th>2</th>\n",
       "      <td>1000268201_693b08cb0e.jpg</td>\n",
       "      <td>A little girl climbing into a wooden playhouse .</td>\n",
       "    </tr>\n",
       "    <tr>\n",
       "      <th>3</th>\n",
       "      <td>1000268201_693b08cb0e.jpg</td>\n",
       "      <td>A little girl climbing the stairs to her playh...</td>\n",
       "    </tr>\n",
       "    <tr>\n",
       "      <th>4</th>\n",
       "      <td>1000268201_693b08cb0e.jpg</td>\n",
       "      <td>A little girl in a pink dress going into a woo...</td>\n",
       "    </tr>\n",
       "  </tbody>\n",
       "</table>\n",
       "</div>"
      ],
      "text/plain": [
       "                       image  \\\n",
       "0  1000268201_693b08cb0e.jpg   \n",
       "1  1000268201_693b08cb0e.jpg   \n",
       "2  1000268201_693b08cb0e.jpg   \n",
       "3  1000268201_693b08cb0e.jpg   \n",
       "4  1000268201_693b08cb0e.jpg   \n",
       "\n",
       "                                             caption  \n",
       "0  A child in a pink dress is climbing up a set o...  \n",
       "1              A girl going into a wooden building .  \n",
       "2   A little girl climbing into a wooden playhouse .  \n",
       "3  A little girl climbing the stairs to her playh...  \n",
       "4  A little girl in a pink dress going into a woo...  "
      ]
     },
     "execution_count": 9,
     "metadata": {},
     "output_type": "execute_result"
    }
   ],
   "source": [
    "annotation = pandas.read_csv(\"data/flickr8k/captions.txt\")\n",
    "annotation.head()"
   ]
  },
  {
   "cell_type": "code",
   "execution_count": 10,
   "metadata": {
    "execution": {
     "iopub.execute_input": "2021-06-10T11:40:08.224139Z",
     "iopub.status.busy": "2021-06-10T11:40:08.223806Z",
     "iopub.status.idle": "2021-06-10T11:40:08.230551Z",
     "shell.execute_reply": "2021-06-10T11:40:08.229616Z",
     "shell.execute_reply.started": "2021-06-10T11:40:08.224105Z"
    }
   },
   "outputs": [
    {
     "data": {
      "text/plain": [
       "['A child in a pink dress is climbing up a set of stairs in an entry way .',\n",
       " 'A girl going into a wooden building .']"
      ]
     },
     "execution_count": 10,
     "metadata": {},
     "output_type": "execute_result"
    }
   ],
   "source": [
    "annotation['caption'].tolist()[:2]"
   ]
  },
  {
   "cell_type": "code",
   "execution_count": 11,
   "metadata": {
    "execution": {
     "iopub.execute_input": "2021-06-10T11:40:08.232404Z",
     "iopub.status.busy": "2021-06-10T11:40:08.231937Z",
     "iopub.status.idle": "2021-06-10T11:40:08.243673Z",
     "shell.execute_reply": "2021-06-10T11:40:08.242701Z",
     "shell.execute_reply.started": "2021-06-10T11:40:08.232368Z"
    }
   },
   "outputs": [],
   "source": [
    "class FlickrDataset(Dataset):\n",
    "    def __init__(self, root_dir=\"data/flickr8k/images\", \n",
    "                 caption_path=\"data/flickr8k/captions.txt\", \n",
    "                 freq_threshold=5, transform=None, data_length=10000):\n",
    "        self.freq_threshold = freq_threshold\n",
    "        self.transform = transform\n",
    "        self.root_dir = root_dir\n",
    "    \n",
    "        self.df = pandas.read_csv(caption_path)[:data_length]\n",
    "        \n",
    "        self.captions = self.df['caption']\n",
    "        self.images = self.df['image']\n",
    "        \n",
    "        self.vocab = Vocabulary(freq_threshold)\n",
    "        \n",
    "        print(len(self.captions.tolist()))\n",
    "        self.vocab.build_vocabulary(self.captions.tolist())\n",
    "    \n",
    "    def __len__(self):\n",
    "        return len(self.df)\n",
    "    \n",
    "    def __getitem__(self, index):\n",
    "        caption = self.captions[index]\n",
    "        image = self.images[index]\n",
    "        \n",
    "        img = Image.open(os.path.join(self.root_dir,image)).convert(\"RGB\")\n",
    "        \n",
    "        if (self.transform):\n",
    "            img = self.transform(img)        \n",
    "        numericalized_caption = [self.vocab.stoi[\"<SOS>\"]]\n",
    "        numericalized_caption += self.vocab.numericalize(caption)\n",
    "        numericalized_caption.append(self.vocab.stoi[\"<EOS>\"])\n",
    "        \n",
    "        return img, torch.tensor(numericalized_caption)"
   ]
  },
  {
   "cell_type": "code",
   "execution_count": 12,
   "metadata": {
    "execution": {
     "iopub.execute_input": "2021-06-10T11:40:08.245215Z",
     "iopub.status.busy": "2021-06-10T11:40:08.244836Z",
     "iopub.status.idle": "2021-06-10T11:40:08.257772Z",
     "shell.execute_reply": "2021-06-10T11:40:08.256945Z",
     "shell.execute_reply.started": "2021-06-10T11:40:08.24518Z"
    }
   },
   "outputs": [],
   "source": [
    "class MyCollate:\n",
    "    def __init__(self, pad_value):\n",
    "        self.pad_value = pad_value\n",
    "    \n",
    "    def __call__(self,batch):\n",
    "        imgs = [item[0].unsqueeze(0) for item in batch]\n",
    "        img = torch.cat(imgs, dim=0)\n",
    "        targets = [item[1] for item in batch]\n",
    "        targets = pad_sequence(targets, batch_first=False, padding_value=self.pad_value)\n",
    "        \n",
    "        return img, targets"
   ]
  },
  {
   "cell_type": "code",
   "execution_count": 13,
   "metadata": {
    "execution": {
     "iopub.execute_input": "2021-06-10T11:40:08.259012Z",
     "iopub.status.busy": "2021-06-10T11:40:08.258731Z",
     "iopub.status.idle": "2021-06-10T11:40:08.267791Z",
     "shell.execute_reply": "2021-06-10T11:40:08.266981Z",
     "shell.execute_reply.started": "2021-06-10T11:40:08.258988Z"
    }
   },
   "outputs": [],
   "source": [
    "# transform = transforms.Compose(\n",
    "#         [transforms.Resize((224, 224)), transforms.ToTensor(),]\n",
    "#     )\n",
    "\n",
    "transform = transforms.Compose(\n",
    "        [\n",
    "            transforms.Resize((356, 356)),\n",
    "            transforms.RandomCrop((299, 299)),\n",
    "            transforms.ToTensor(),\n",
    "            transforms.Normalize((0.5, 0.5, 0.5), (0.5, 0.5, 0.5)),\n",
    "        ]\n",
    "    )"
   ]
  },
  {
   "cell_type": "code",
   "execution_count": 14,
   "metadata": {
    "execution": {
     "iopub.execute_input": "2021-06-10T11:40:08.270769Z",
     "iopub.status.busy": "2021-06-10T11:40:08.270458Z",
     "iopub.status.idle": "2021-06-10T11:40:08.277383Z",
     "shell.execute_reply": "2021-06-10T11:40:08.276584Z",
     "shell.execute_reply.started": "2021-06-10T11:40:08.270739Z"
    }
   },
   "outputs": [],
   "source": [
    "def get_loader(root_dir=\"data/flickr8k/images\", \n",
    "               caption_path=\"data/flickr8k/captions.txt\", \n",
    "               transform=transform, \n",
    "               batch_size=32, num_workers=8, shuffle=True, pin_memory=True):\n",
    "    dataset = FlickrDataset(root_dir=root_dir,caption_path=caption_path, transform=transform)\n",
    "    pad_value = dataset.vocab.stoi[\"<PAD>\"]\n",
    "    \n",
    "    loader = DataLoader(dataset=dataset, batch_size=32, num_workers=6, shuffle=True, pin_memory=True, collate_fn=MyCollate(pad_value))\n",
    "    \n",
    "    return loader, dataset"
   ]
  },
  {
   "cell_type": "code",
   "execution_count": 15,
   "metadata": {
    "execution": {
     "iopub.execute_input": "2021-06-10T11:40:08.279111Z",
     "iopub.status.busy": "2021-06-10T11:40:08.278503Z",
     "iopub.status.idle": "2021-06-10T11:40:08.709633Z",
     "shell.execute_reply": "2021-06-10T11:40:08.708874Z",
     "shell.execute_reply.started": "2021-06-10T11:40:08.279075Z"
    }
   },
   "outputs": [
    {
     "name": "stdout",
     "output_type": "stream",
     "text": [
      "10000\n"
     ]
    }
   ],
   "source": [
    " loader, dataset = get_loader()"
   ]
  },
  {
   "cell_type": "markdown",
   "metadata": {},
   "source": [
    "Lets load a random example."
   ]
  },
  {
   "cell_type": "code",
   "execution_count": 16,
   "metadata": {
    "execution": {
     "iopub.execute_input": "2021-06-10T11:40:08.711138Z",
     "iopub.status.busy": "2021-06-10T11:40:08.710806Z",
     "iopub.status.idle": "2021-06-10T11:40:08.735444Z",
     "shell.execute_reply": "2021-06-10T11:40:08.734746Z",
     "shell.execute_reply.started": "2021-06-10T11:40:08.711102Z"
    }
   },
   "outputs": [
    {
     "data": {
      "text/plain": [
       "(torch.Size([3, 299, 299]), torch.Size([15]))"
      ]
     },
     "execution_count": 16,
     "metadata": {},
     "output_type": "execute_result"
    }
   ],
   "source": [
    "import random\n",
    "import math\n",
    "\n",
    "x, y = dataset[math.floor(random.random() * len(dataset))]\n",
    "x.shape, y.shape"
   ]
  },
  {
   "cell_type": "code",
   "execution_count": 17,
   "metadata": {
    "execution": {
     "iopub.execute_input": "2021-06-10T11:40:08.738263Z",
     "iopub.status.busy": "2021-06-10T11:40:08.738018Z",
     "iopub.status.idle": "2021-06-10T11:40:08.889119Z",
     "shell.execute_reply": "2021-06-10T11:40:08.888393Z",
     "shell.execute_reply.started": "2021-06-10T11:40:08.738231Z"
    }
   },
   "outputs": [
    {
     "name": "stderr",
     "output_type": "stream",
     "text": [
      "Clipping input data to the valid range for imshow with RGB data ([0..1] for floats or [0..255] for integers).\n"
     ]
    },
    {
     "name": "stdout",
     "output_type": "stream",
     "text": [
      "tensor([     1, 108890,      3, 108671, 108890, 108785, 107402, 108862, 108897,\n",
      "         84383, 108691, 108917, 107271, 108925,      2])\n",
      "<SOS> the <UNK> wearing the black sunglasses and blue jean jacket is smiling . <EOS> "
     ]
    },
    {
     "data": {
      "image/png": "[encoded data removed]",
      "text/plain": [
       "<Figure size 640x480 with 1 Axes>"
      ]
     },
     "metadata": {},
     "output_type": "display_data"
    }
   ],
   "source": [
    "import matplotlib.pyplot as plt\n",
    "\n",
    "plt.imshow(x.permute(1,2,0))\n",
    "print(y)\n",
    "\n",
    "# print(dataset.vocab.itos[1])\n",
    "\n",
    "for i in y:\n",
    "    print(dataset.vocab.itos[int(i)],end=\" \")"
   ]
  },
  {
   "cell_type": "code",
   "execution_count": 18,
   "metadata": {
    "execution": {
     "iopub.execute_input": "2021-06-10T11:40:08.891909Z",
     "iopub.status.busy": "2021-06-10T11:40:08.891642Z",
     "iopub.status.idle": "2021-06-10T11:40:08.89768Z",
     "shell.execute_reply": "2021-06-10T11:40:08.896718Z",
     "shell.execute_reply.started": "2021-06-10T11:40:08.891884Z"
    }
   },
   "outputs": [],
   "source": [
    "def save_checkpoint(state, filename = \"my_checkpoint.pth.tar\"):\n",
    "    print(\"saving checkpoint!\")\n",
    "    torch.save(state, filename)"
   ]
  },
  {
   "cell_type": "code",
   "execution_count": 19,
   "metadata": {
    "execution": {
     "iopub.execute_input": "2021-06-10T11:40:08.899491Z",
     "iopub.status.busy": "2021-06-10T11:40:08.89901Z",
     "iopub.status.idle": "2021-06-10T11:40:08.905718Z",
     "shell.execute_reply": "2021-06-10T11:40:08.904933Z",
     "shell.execute_reply.started": "2021-06-10T11:40:08.899452Z"
    }
   },
   "outputs": [],
   "source": [
    "def load_checkpoint(checkpoint, model, optimizer):\n",
    "    print(\"loading checkpoint!\")\n",
    "    model.load_state_dict(checkpoint[\"state_dict\"])\n",
    "    model.load_state_optimizer(checkpoint[\"optimizer\"])\n",
    "    step = checkpoint[\"step\"]\n",
    "    return step"
   ]
  },
  {
   "cell_type": "markdown",
   "metadata": {},
   "source": [
    "## Training the model"
   ]
  },
  {
   "cell_type": "code",
   "execution_count": 20,
   "metadata": {
    "execution": {
     "iopub.execute_input": "2021-06-10T11:40:08.907438Z",
     "iopub.status.busy": "2021-06-10T11:40:08.906973Z",
     "iopub.status.idle": "2021-06-10T11:40:08.914205Z",
     "shell.execute_reply": "2021-06-10T11:40:08.913356Z",
     "shell.execute_reply.started": "2021-06-10T11:40:08.907404Z"
    }
   },
   "outputs": [],
   "source": [
    "from tqdm import tqdm\n",
    "# from torchvision.utils.tensorboard import SummaryWriter"
   ]
  },
  {
   "cell_type": "code",
   "execution_count": 21,
   "metadata": {
    "execution": {
     "iopub.execute_input": "2021-06-10T11:40:08.91825Z",
     "iopub.status.busy": "2021-06-10T11:40:08.917928Z",
     "iopub.status.idle": "2021-06-10T11:40:08.923485Z",
     "shell.execute_reply": "2021-06-10T11:40:08.92243Z",
     "shell.execute_reply.started": "2021-06-10T11:40:08.91822Z"
    }
   },
   "outputs": [],
   "source": [
    "torch.backends.cudnn.benchmark = True\n",
    "device = torch.device('cuda' if torch.cuda.is_available() else 'cpu')\n",
    "load_model = False\n",
    "save_model=False\n",
    "train_CNN = False"
   ]
  },
  {
   "cell_type": "code",
   "execution_count": 22,
   "metadata": {
    "execution": {
     "iopub.execute_input": "2021-06-10T11:40:08.925598Z",
     "iopub.status.busy": "2021-06-10T11:40:08.925191Z",
     "iopub.status.idle": "2021-06-10T11:40:08.932298Z",
     "shell.execute_reply": "2021-06-10T11:40:08.931503Z",
     "shell.execute_reply.started": "2021-06-10T11:40:08.925565Z"
    }
   },
   "outputs": [],
   "source": [
    "# model = CNN2RNN(embed_size=embed_size, hidden_size=hidden_size,vocab_size=vocab_size, num_layers=num_layers).to(device=device)"
   ]
  },
  {
   "cell_type": "markdown",
   "metadata": {},
   "source": [
    "### Hyperparameters"
   ]
  },
  {
   "cell_type": "code",
   "execution_count": 23,
   "metadata": {
    "execution": {
     "iopub.execute_input": "2021-06-10T11:41:49.922952Z",
     "iopub.status.busy": "2021-06-10T11:41:49.92261Z",
     "iopub.status.idle": "2021-06-10T11:41:49.929676Z",
     "shell.execute_reply": "2021-06-10T11:41:49.928929Z",
     "shell.execute_reply.started": "2021-06-10T11:41:49.922913Z"
    }
   },
   "outputs": [],
   "source": [
    "import torch.optim as optim \n",
    "\n",
    "step = 0\n",
    "embed_size = 256\n",
    "hidden_size = 256\n",
    "num_layers = 5\n",
    "num_epochs = 20\n",
    "learning_rate = 3e-4\n",
    "vocab_size = len(dataset.vocab)\n"
   ]
  },
  {
   "cell_type": "code",
   "execution_count": 24,
   "metadata": {
    "execution": {
     "iopub.execute_input": "2021-06-10T11:41:49.937894Z",
     "iopub.status.busy": "2021-06-10T11:41:49.937594Z",
     "iopub.status.idle": "2021-06-10T11:41:50.668803Z",
     "shell.execute_reply": "2021-06-10T11:41:50.667944Z",
     "shell.execute_reply.started": "2021-06-10T11:41:49.937863Z"
    }
   },
   "outputs": [
    {
     "name": "stderr",
     "output_type": "stream",
     "text": [
      "/scratch/w880c134/anaconda3/envs/tf/lib/python3.9/site-packages/torchvision/models/_utils.py:208: UserWarning: The parameter 'pretrained' is deprecated since 0.13 and may be removed in the future, please use 'weights' instead.\n",
      "  warnings.warn(\n",
      "/scratch/w880c134/anaconda3/envs/tf/lib/python3.9/site-packages/torchvision/models/_utils.py:223: UserWarning: Arguments other than a weight enum or `None` for 'weights' are deprecated since 0.13 and may be removed in the future. The current behavior is equivalent to passing `weights=Inception_V3_Weights.IMAGENET1K_V1`. You can also use `weights=Inception_V3_Weights.DEFAULT` to get the most up-to-date weights.\n",
      "  warnings.warn(msg)\n"
     ]
    }
   ],
   "source": [
    "model = CNN2RNN(embed_size=embed_size, \n",
    "                hidden_size=hidden_size,\n",
    "                vocab_size=vocab_size, \n",
    "                num_layers=num_layers).to(device=device)"
   ]
  },
  {
   "cell_type": "code",
   "execution_count": 25,
   "metadata": {
    "execution": {
     "iopub.execute_input": "2021-06-10T11:41:50.670731Z",
     "iopub.status.busy": "2021-06-10T11:41:50.670386Z",
     "iopub.status.idle": "2021-06-10T11:41:50.676759Z",
     "shell.execute_reply": "2021-06-10T11:41:50.675762Z",
     "shell.execute_reply.started": "2021-06-10T11:41:50.670691Z"
    }
   },
   "outputs": [
    {
     "data": {
      "text/plain": [
       "decoderRNN(\n",
       "  (embedding): Embedding(108931, 256)\n",
       "  (lstm): LSTM(256, 256, num_layers=5)\n",
       "  (linear): Linear(in_features=256, out_features=108931, bias=True)\n",
       "  (dropout): Dropout(p=0.5, inplace=False)\n",
       ")"
      ]
     },
     "execution_count": 25,
     "metadata": {},
     "output_type": "execute_result"
    }
   ],
   "source": [
    "model.decoderRNN\n",
    "\n",
    "# print('model: ',model)\n",
    "# print('device: ', device)"
   ]
  },
  {
   "cell_type": "code",
   "execution_count": 26,
   "metadata": {
    "execution": {
     "iopub.execute_input": "2021-06-10T11:41:50.679122Z",
     "iopub.status.busy": "2021-06-10T11:41:50.678732Z",
     "iopub.status.idle": "2021-06-10T11:41:50.690747Z",
     "shell.execute_reply": "2021-06-10T11:41:50.689985Z",
     "shell.execute_reply.started": "2021-06-10T11:41:50.679085Z"
    }
   },
   "outputs": [],
   "source": [
    "loss_criterion = nn.CrossEntropyLoss(ignore_index=dataset.vocab.stoi[\"<PAD>\"])\n",
    "optimizer = optim.Adam(model.parameters(), lr = learning_rate)"
   ]
  },
  {
   "cell_type": "code",
   "execution_count": 27,
   "metadata": {
    "execution": {
     "iopub.execute_input": "2021-06-10T11:41:50.692681Z",
     "iopub.status.busy": "2021-06-10T11:41:50.692335Z",
     "iopub.status.idle": "2021-06-10T11:41:50.699286Z",
     "shell.execute_reply": "2021-06-10T11:41:50.698517Z",
     "shell.execute_reply.started": "2021-06-10T11:41:50.692646Z"
    }
   },
   "outputs": [],
   "source": [
    "# # Only finetune the CNN\n",
    "# for name, param in model.encoderCNN.inception.named_parameters():\n",
    "#     if \"fc.weight\" in name or \"fc.bias\" in name:\n",
    "#         param.requires_grad = True\n",
    "#     else:\n",
    "#         param.requires_grad = train_CNN"
   ]
  },
  {
   "cell_type": "code",
   "execution_count": 28,
   "metadata": {
    "execution": {
     "iopub.execute_input": "2021-06-10T11:41:50.700717Z",
     "iopub.status.busy": "2021-06-10T11:41:50.700343Z",
     "iopub.status.idle": "2021-06-10T11:41:50.711546Z",
     "shell.execute_reply": "2021-06-10T11:41:50.71074Z",
     "shell.execute_reply.started": "2021-06-10T11:41:50.700678Z"
    }
   },
   "outputs": [],
   "source": [
    "if load_model:\n",
    "    step = load_checkpoint(torch.load(\"my_checkpoint.pth.tar\"), model, optimizer)"
   ]
  },
  {
   "cell_type": "code",
   "execution_count": null,
   "metadata": {
    "execution": {
     "iopub.execute_input": "2021-06-10T11:41:50.71472Z",
     "iopub.status.busy": "2021-06-10T11:41:50.714459Z",
     "iopub.status.idle": "2021-06-10T11:50:54.614258Z",
     "shell.execute_reply": "2021-06-10T11:50:54.612694Z",
     "shell.execute_reply.started": "2021-06-10T11:41:50.714696Z"
    }
   },
   "outputs": [
    {
     "name": "stdout",
     "output_type": "stream",
     "text": [
      "Loss for epoch 0: 4.390735626220703\n",
      "Loss for epoch 1: 4.171662330627441\n",
      "Loss for epoch 2: 4.402273178100586\n",
      "Loss for epoch 3: 4.17434024810791\n",
      "Loss for epoch 4: 4.057600021362305\n",
      "Loss for epoch 5: 4.114499568939209\n",
      "Loss for epoch 6: 4.146373271942139\n",
      "Loss for epoch 7: 3.987488269805908\n",
      "Loss for epoch 8: 4.1690239906311035\n",
      "Loss for epoch 9: 3.825638771057129\n",
      "Loss for epoch 10: 4.159489154815674\n",
      "Loss for epoch 11: 4.058495044708252\n",
      "Loss for epoch 12: 4.129915237426758\n"
     ]
    }
   ],
   "source": [
    "model.train()\n",
    "\n",
    "for epoch in range(num_epochs):\n",
    "    if save_model:\n",
    "        checkpoint = {\n",
    "            \"state_dict\": model.state_dict(),\n",
    "            \"optimizer\": model.state_dict(),\n",
    "            \"step\": step,\n",
    "        }\n",
    "        save_checkpoint(checkpoint)\n",
    "\n",
    "#     for idx, (imgs, captions) in tqdm(\n",
    "#         enumerate(loader), total=len(loader), leave=False\n",
    "#     ):\n",
    "    for idx, (imgs, captions) in enumerate(loader):\n",
    "        imgs = imgs.to(device)\n",
    "        captions = captions.to(device)\n",
    "        \n",
    "        score = model(imgs, captions[:-1])\n",
    "        \n",
    "#         print(score.shape, captions.shape)\n",
    "#         print(score.reshape(-1, score.shape[2]).shape, captions.reshape(-1).shape)\n",
    "#         print(\"why are we reshaping it here?\")\n",
    "        optimizer.zero_grad()\n",
    "        loss = loss_criterion(score.reshape(-1, score.shape[2]), captions.reshape(-1))\n",
    "              \n",
    "        step += 1\n",
    "        \n",
    "        loss.backward()\n",
    "        optimizer.step()\n",
    "    print(f\"Loss for epoch {epoch}: {loss}\")"
   ]
  },
  {
   "cell_type": "code",
   "execution_count": null,
   "metadata": {
    "execution": {
     "iopub.execute_input": "2021-06-10T11:56:07.383735Z",
     "iopub.status.busy": "2021-06-10T11:56:07.383178Z",
     "iopub.status.idle": "2021-06-10T11:56:07.464525Z",
     "shell.execute_reply": "2021-06-10T11:56:07.462551Z",
     "shell.execute_reply.started": "2021-06-10T11:56:07.383622Z"
    },
    "scrolled": true
   },
   "outputs": [],
   "source": [
    "image_path = \"data/flickr8k/images/1032460886_4a598ed535.jpg\"\n",
    "img = Image.open(image_path)\n",
    "img = transform(img)\n",
    "\n",
    "# plt.imshow(img.permute(1,2,0))\n",
    "\n",
    "img = img.unsqueeze(0)\n",
    "image_input = img.to(device=device) # check here\n",
    "print('image_input.shape: ', image_input.shape)\n",
    "\n",
    "model.eval()\n",
    "print(model.captionImage(image=image_input, vocabulary=dataset.vocab))\n",
    "\n",
    "\n"
   ]
  },
  {
   "cell_type": "code",
   "execution_count": null,
   "metadata": {},
   "outputs": [],
   "source": []
  }
 ],
 "metadata": {
  "kernelspec": {
   "display_name": "Python 3 (ipykernel)",
   "language": "python",
   "name": "python3"
  },
  "language_info": {
   "codemirror_mode": {
    "name": "ipython",
    "version": 3
   },
   "file_extension": ".py",
   "mimetype": "text/x-python",
   "name": "python",
   "nbconvert_exporter": "python",
   "pygments_lexer": "ipython3",
   "version": "3.9.7"
  }
 },
 "nbformat": 4,
 "nbformat_minor": 4
}
